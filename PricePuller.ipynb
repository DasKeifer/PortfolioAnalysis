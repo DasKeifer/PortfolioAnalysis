{
 "cells": [
  {
   "cell_type": "code",
   "execution_count": 2,
   "id": "7803109c",
   "metadata": {},
   "outputs": [],
   "source": [
    "import pandas as pd \n",
    "import datetime\n",
    "import os\n",
    "\n",
    "from SimFunctions import pullAndSaveData, saveData"
   ]
  },
  {
   "cell_type": "code",
   "execution_count": 3,
   "id": "af9a54ab",
   "metadata": {
    "scrolled": true
   },
   "outputs": [],
   "source": [
    "start = datetime.datetime(1924, 1, 1)\n",
    "end = datetime.datetime(2024, 1, 1)"
   ]
  },
  {
   "cell_type": "code",
   "execution_count": 4,
   "id": "4b9d1720",
   "metadata": {},
   "outputs": [
    {
     "name": "stdout",
     "output_type": "stream",
     "text": [
      "[*********************100%***********************]  1 of 1 completed\n",
      "Date\n",
      "1992-01-02 00:00:00-05:00     3172.399902\n",
      "1992-01-03 00:00:00-05:00     3201.500000\n",
      "1992-01-06 00:00:00-05:00     3200.100098\n",
      "1992-01-07 00:00:00-05:00     3204.800049\n",
      "1992-01-08 00:00:00-05:00     3203.899902\n",
      "                                 ...     \n",
      "2023-02-21 00:00:00-05:00    33129.589844\n",
      "2023-02-22 00:00:00-05:00    33045.089844\n",
      "2023-02-23 00:00:00-05:00    33153.910156\n",
      "2023-02-24 00:00:00-05:00    32816.921875\n",
      "2023-02-27 00:00:00-05:00    32928.980469\n",
      "Name: Adj Close, Length: 7847, dtype: float64\n"
     ]
    }
   ],
   "source": [
    "# DJIA Index\n",
    "pullAndSaveData(\"^DJI\", os.path.join(\"data\", \"prices\", \"pulled\", \"DJIA\"), start, end)"
   ]
  },
  {
   "cell_type": "code",
   "execution_count": 5,
   "id": "39bcdf52",
   "metadata": {},
   "outputs": [
    {
     "name": "stdout",
     "output_type": "stream",
     "text": [
      "[*********************100%***********************]  1 of 1 completed\n",
      "Date\n",
      "1998-01-20 00:00:00-05:00     46.059654\n",
      "1998-01-21 00:00:00-05:00     45.493507\n",
      "1998-01-22 00:00:00-05:00     45.110008\n",
      "1998-01-23 00:00:00-05:00     45.000416\n",
      "1998-01-26 00:00:00-05:00     45.183025\n",
      "                                ...    \n",
      "2023-02-21 00:00:00-05:00    331.250000\n",
      "2023-02-22 00:00:00-05:00    330.519989\n",
      "2023-02-23 00:00:00-05:00    331.670013\n",
      "2023-02-24 00:00:00-05:00    328.119995\n",
      "2023-02-27 00:00:00-05:00    329.369995\n",
      "Name: Adj Close, Length: 6318, dtype: float64\n"
     ]
    }
   ],
   "source": [
    "# DJIA ETF\n",
    "pullAndSaveData(\"DIA\", os.path.join(\"data\", \"prices\", \"pulled\", \"DJIA\"), start, end)"
   ]
  },
  {
   "cell_type": "code",
   "execution_count": 4,
   "id": "43fd1b3b",
   "metadata": {
    "scrolled": true
   },
   "outputs": [
    {
     "name": "stdout",
     "output_type": "stream",
     "text": [
      "[*********************100%***********************]  1 of 1 completed\n",
      "Date\n",
      "1927-12-30 00:00:00-05:00      17.660000\n",
      "1928-01-03 00:00:00-05:00      17.760000\n",
      "1928-01-04 00:00:00-05:00      17.719999\n",
      "1928-01-05 00:00:00-05:00      17.549999\n",
      "1928-01-06 00:00:00-05:00      17.660000\n",
      "                                ...     \n",
      "2023-01-30 00:00:00-05:00    4017.770020\n",
      "2023-01-31 00:00:00-05:00    4076.600098\n",
      "2023-02-01 00:00:00-05:00    4119.209961\n",
      "2023-02-02 00:00:00-05:00    4179.759766\n",
      "2023-02-03 00:00:00-05:00    4136.479980\n",
      "Name: Adj Close, Length: 23888, dtype: float64\n"
     ]
    }
   ],
   "source": [
    "# S&P 500 Index\n",
    "pullAndSaveData(\"^GSPC\", os.path.join(\"data\", \"prices\", \"pulled\", \"SNP500\"), start, end)"
   ]
  },
  {
   "cell_type": "code",
   "execution_count": 5,
   "id": "e960a817",
   "metadata": {
    "scrolled": false
   },
   "outputs": [
    {
     "name": "stdout",
     "output_type": "stream",
     "text": [
      "[*********************100%***********************]  1 of 1 completed\n",
      "Date\n",
      "1993-01-29 00:00:00-05:00     25.218224\n",
      "1993-02-01 00:00:00-05:00     25.397585\n",
      "1993-02-02 00:00:00-05:00     25.451391\n",
      "1993-02-03 00:00:00-05:00     25.720430\n",
      "1993-02-04 00:00:00-05:00     25.828060\n",
      "                                ...    \n",
      "2023-01-30 00:00:00-05:00    400.589996\n",
      "2023-01-31 00:00:00-05:00    406.480011\n",
      "2023-02-01 00:00:00-05:00    410.799988\n",
      "2023-02-02 00:00:00-05:00    416.779999\n",
      "2023-02-03 00:00:00-05:00    412.350006\n",
      "Name: Adj Close, Length: 7559, dtype: float64\n"
     ]
    }
   ],
   "source": [
    "# S&P 500 ETF\n",
    "pullAndSaveData(\"SPY\", os.path.join(\"data\", \"prices\", \"pulled\", \"SNP500\"), start, end)"
   ]
  },
  {
   "cell_type": "code",
   "execution_count": 7,
   "id": "a5594db2",
   "metadata": {
    "scrolled": true
   },
   "outputs": [
    {
     "name": "stdout",
     "output_type": "stream",
     "text": [
      "[*********************100%***********************]  1 of 1 completed\n",
      "Date\n",
      "1985-10-01 00:00:00-04:00      112.139999\n",
      "1985-10-02 00:00:00-04:00      110.824997\n",
      "1985-10-03 00:00:00-04:00      110.870003\n",
      "1985-10-04 00:00:00-04:00      110.074997\n",
      "1985-10-07 00:00:00-04:00      108.199997\n",
      "                                 ...     \n",
      "2023-01-30 00:00:00-05:00    11912.389648\n",
      "2023-01-31 00:00:00-05:00    12101.929688\n",
      "2023-02-01 00:00:00-05:00    12363.099609\n",
      "2023-02-02 00:00:00-05:00    12803.139648\n",
      "2023-02-03 00:00:00-05:00    12573.360352\n",
      "Name: Adj Close, Length: 9413, dtype: float64\n"
     ]
    }
   ],
   "source": [
    "# NASDAQ 100 Index\n",
    "pullAndSaveData(\"NDX\", os.path.join(\"data\", \"prices\", \"pulled\", \"NASDAQ100\"), start, end)"
   ]
  },
  {
   "cell_type": "code",
   "execution_count": 8,
   "id": "1f18699e",
   "metadata": {},
   "outputs": [
    {
     "name": "stdout",
     "output_type": "stream",
     "text": [
      "[*********************100%***********************]  1 of 1 completed\n",
      "Date\n",
      "1999-03-10 00:00:00-05:00     43.906254\n",
      "1999-03-11 00:00:00-05:00     44.121223\n",
      "1999-03-12 00:00:00-05:00     43.046398\n",
      "1999-03-15 00:00:00-05:00     44.282440\n",
      "1999-03-16 00:00:00-05:00     44.658627\n",
      "                                ...    \n",
      "2023-01-30 00:00:00-05:00    290.269989\n",
      "2023-01-31 00:00:00-05:00    294.619995\n",
      "2023-02-01 00:00:00-05:00    300.920013\n",
      "2023-02-02 00:00:00-05:00    311.720001\n",
      "2023-02-03 00:00:00-05:00    306.179993\n",
      "Name: Adj Close, Length: 6017, dtype: float64\n"
     ]
    }
   ],
   "source": [
    "# QQQ ETF (NASDAQ 100)\n",
    "pullAndSaveData(\"QQQ\", os.path.join(\"data\", \"prices\", \"pulled\", \"NASDAQ100\"), start, end)"
   ]
  },
  {
   "cell_type": "code",
   "execution_count": 7,
   "id": "a9160e94",
   "metadata": {},
   "outputs": [
    {
     "name": "stdout",
     "output_type": "stream",
     "text": [
      "[*********************100%***********************]  1 of 1 completed\n",
      "Date\n",
      "1987-09-10 00:00:00-04:00     168.970001\n",
      "1987-09-11 00:00:00-04:00     170.539993\n",
      "1987-09-14 00:00:00-04:00     170.429993\n",
      "1987-09-15 00:00:00-04:00     169.199997\n",
      "1987-09-16 00:00:00-04:00     168.919998\n",
      "                                ...     \n",
      "2023-02-21 00:00:00-05:00    1888.209961\n",
      "2023-02-22 00:00:00-05:00    1894.680054\n",
      "2023-02-23 00:00:00-05:00    1908.089966\n",
      "2023-02-24 00:00:00-05:00    1890.489990\n",
      "2023-02-27 00:00:00-05:00    1902.105469\n",
      "Name: Adj Close, Length: 8937, dtype: float64\n"
     ]
    }
   ],
   "source": [
    "# Russell 2000\n",
    "pullAndSaveData(\"^RUT\", os.path.join(\"data\", \"prices\", \"pulled\", \"Russell2000\"), start, end)"
   ]
  },
  {
   "cell_type": "code",
   "execution_count": 8,
   "id": "fa87253b",
   "metadata": {},
   "outputs": [
    {
     "name": "stdout",
     "output_type": "stream",
     "text": [
      "[*********************100%***********************]  1 of 1 completed\n",
      "Date\n",
      "2000-05-26 00:00:00-04:00     33.982491\n",
      "2000-05-30 00:00:00-04:00     35.236809\n",
      "2000-05-31 00:00:00-04:00     35.364574\n",
      "2000-06-01 00:00:00-04:00     36.165936\n",
      "2000-06-02 00:00:00-04:00     38.047405\n",
      "                                ...    \n",
      "2023-02-21 00:00:00-05:00    187.429993\n",
      "2023-02-22 00:00:00-05:00    187.940002\n",
      "2023-02-23 00:00:00-05:00    189.279999\n",
      "2023-02-24 00:00:00-05:00    187.509995\n",
      "2023-02-27 00:00:00-05:00    188.520004\n",
      "Name: Adj Close, Length: 5724, dtype: float64\n"
     ]
    }
   ],
   "source": [
    "# Russell 2000 ETF\n",
    "pullAndSaveData(\"IWM\", os.path.join(\"data\", \"prices\", \"pulled\", \"Russell2000\"), start, end)"
   ]
  },
  {
   "cell_type": "code",
   "execution_count": 11,
   "id": "373391c2",
   "metadata": {
    "scrolled": false
   },
   "outputs": [
    {
     "name": "stdout",
     "output_type": "stream",
     "text": [
      "[*********************100%***********************]  1 of 1 completed\n",
      "Date\n",
      "2002-07-30 00:00:00-04:00     41.130577\n",
      "2002-07-31 00:00:00-04:00     41.640156\n",
      "2002-08-01 00:00:00-04:00     41.877338\n",
      "2002-08-02 00:00:00-04:00     42.306171\n",
      "2002-08-05 00:00:00-04:00     42.492847\n",
      "                                ...    \n",
      "2023-01-30 00:00:00-05:00    106.047180\n",
      "2023-01-31 00:00:00-05:00    106.894997\n",
      "2023-02-01 00:00:00-05:00    108.180000\n",
      "2023-02-02 00:00:00-05:00    108.320000\n",
      "2023-02-03 00:00:00-05:00    106.699997\n",
      "Name: Adj Close, Length: 5166, dtype: float64\n"
     ]
    }
   ],
   "source": [
    "# Gov bonds don't go far back. Therefore we simulate the data based on the actual bond rates using pulled data in another file\n",
    "# but its not on yahoo so it was downloaded from here manually https://fred.stlouisfed.org/series/DGS20\n",
    "# Gov 20 yr bonds\n",
    "pullAndSaveData(\"TLT\", os.path.join(\"data\", \"prices\", \"pulled\", \"Treasury20\"), start, end)"
   ]
  },
  {
   "cell_type": "code",
   "execution_count": 13,
   "id": "e829ca7b",
   "metadata": {},
   "outputs": [
    {
     "name": "stdout",
     "output_type": "stream",
     "text": [
      "[*********************100%***********************]  1 of 1 completed\n",
      "Date\n",
      "2002-07-30 00:00:00-04:00    45.574959\n",
      "2002-07-31 00:00:00-04:00    45.992954\n",
      "2002-08-01 00:00:00-04:00    46.182499\n",
      "2002-08-02 00:00:00-04:00    46.539192\n",
      "2002-08-05 00:00:00-04:00    46.773277\n",
      "                               ...    \n",
      "2023-01-30 00:00:00-05:00    98.499069\n",
      "2023-01-31 00:00:00-05:00    98.998001\n",
      "2023-02-01 00:00:00-05:00    99.709999\n",
      "2023-02-02 00:00:00-05:00    99.669998\n",
      "2023-02-03 00:00:00-05:00    98.599998\n",
      "Name: Adj Close, Length: 5166, dtype: float64\n"
     ]
    }
   ],
   "source": [
    "# Gov bonds don't go far back. Therefore we simulate the data based on the actual bond rates using pulled data in another file\n",
    "# but its not on yahoo so it was downloaded from here manually https://fred.stlouisfed.org/series/DGS10\n",
    "# Interm. bonds\n",
    "pullAndSaveData(\"IEF\", os.path.join(\"data\", \"prices\", \"pulled\", \"Treasury7-10\"), start, end)"
   ]
  },
  {
   "cell_type": "code",
   "execution_count": 3,
   "id": "bbec966f",
   "metadata": {},
   "outputs": [
    {
     "name": "stdout",
     "output_type": "stream",
     "text": [
      "[*********************100%***********************]  1 of 1 completed\n",
      "Date\n",
      "1992-01-02 00:00:00-05:00    224.460007\n",
      "1992-01-03 00:00:00-05:00    225.589996\n",
      "1992-01-06 00:00:00-05:00    223.020004\n",
      "1992-01-07 00:00:00-05:00    221.830002\n",
      "1992-01-08 00:00:00-05:00    221.639999\n",
      "                                ...    \n",
      "2023-02-06 00:00:00-05:00    961.090027\n",
      "2023-02-07 00:00:00-05:00    958.179993\n",
      "2023-02-08 00:00:00-05:00    941.580017\n",
      "2023-02-09 00:00:00-05:00    927.909973\n",
      "2023-02-10 00:00:00-05:00    945.770020\n",
      "Name: Adj Close, Length: 7837, dtype: float64\n"
     ]
    }
   ],
   "source": [
    "# Utilities Index\n",
    "pullAndSaveData(\"^DJU\", os.path.join(\"data\", \"prices\", \"pulled\", \"Utils\"), start, end)"
   ]
  },
  {
   "cell_type": "code",
   "execution_count": 18,
   "id": "5a2cf2fa",
   "metadata": {},
   "outputs": [
    {
     "name": "stdout",
     "output_type": "stream",
     "text": [
      "[*********************100%***********************]  1 of 1 completed\n",
      "Date\n",
      "2000-06-20 00:00:00-04:00    16.726755\n",
      "2000-06-21 00:00:00-04:00    16.947437\n",
      "2000-06-22 00:00:00-04:00    16.681097\n",
      "2000-06-23 00:00:00-04:00    16.681097\n",
      "2000-06-26 00:00:00-04:00    16.658258\n",
      "                               ...    \n",
      "2023-01-30 00:00:00-05:00    84.339996\n",
      "2023-01-31 00:00:00-05:00    84.989998\n",
      "2023-02-01 00:00:00-05:00    85.190002\n",
      "2023-02-02 00:00:00-05:00    85.230003\n",
      "2023-02-03 00:00:00-05:00    83.690002\n",
      "Name: Adj Close, Length: 5693, dtype: float64\n"
     ]
    }
   ],
   "source": [
    "# Utilities\n",
    "pullAndSaveData(\"IDU\", os.path.join(\"data\", \"prices\", \"pulled\", \"Utils\"), start, end)"
   ]
  },
  {
   "cell_type": "code",
   "execution_count": 172,
   "id": "5243371b",
   "metadata": {},
   "outputs": [
    {
     "name": "stdout",
     "output_type": "stream",
     "text": [
      "[*********************100%***********************]  1 of 1 completed\n",
      "Date\n",
      "2005-01-28 00:00:00-05:00     8.538000\n",
      "2005-01-31 00:00:00-05:00     8.454000\n",
      "2005-02-01 00:00:00-05:00     8.424000\n",
      "2005-02-02 00:00:00-05:00     8.446000\n",
      "2005-02-03 00:00:00-05:00     8.344000\n",
      "                               ...    \n",
      "2023-02-10 00:00:00-05:00    35.349998\n",
      "2023-02-13 00:00:00-05:00    35.180000\n",
      "2023-02-14 00:00:00-05:00    35.200001\n",
      "2023-02-15 00:00:00-05:00    34.840000\n",
      "2023-02-16 00:00:00-05:00    34.840000\n",
      "Name: Adj Close, Length: 4545, dtype: float64\n"
     ]
    }
   ],
   "source": [
    "# Gold\n",
    "pullAndSaveData(\"IAU\", os.path.join(\"data\", \"prices\", \"pulled\", \"Gold\"), start, end)"
   ]
  },
  {
   "cell_type": "code",
   "execution_count": null,
   "id": "9e9f28b9",
   "metadata": {},
   "outputs": [],
   "source": [
    "# Gold prices from\n",
    "# https://sdbullion.com/gold-price\n",
    "# https://www.usagold.com/daily-gold-price-history/?ddYears=2023"
   ]
  }
 ],
 "metadata": {
  "kernelspec": {
   "display_name": "Python 3 (ipykernel)",
   "language": "python",
   "name": "python3"
  },
  "language_info": {
   "codemirror_mode": {
    "name": "ipython",
    "version": 3
   },
   "file_extension": ".py",
   "mimetype": "text/x-python",
   "name": "python",
   "nbconvert_exporter": "python",
   "pygments_lexer": "ipython3",
   "version": "3.10.11"
  }
 },
 "nbformat": 4,
 "nbformat_minor": 5
}
